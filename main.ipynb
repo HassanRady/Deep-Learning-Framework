{
 "cells": [
  {
   "cell_type": "code",
   "execution_count": 1,
   "metadata": {},
   "outputs": [],
   "source": [
    "from Layers.Initializers import Xavier, He, UniformRandom, Constant\n",
    "from Layers.Conv import Conv2d\n",
    "from Layers.BatchNormalization import BatchNorm2d\n",
    "from Layers.Pooling import MaxPool2d\n",
    "from Layers.Flatten import Flatten\n",
    "from Layers.FullyConnected import Linear\n",
    "from Layers.ReLU import ReLU\n",
    "from Layers.SoftMax import SoftMax\n",
    "from Optimization.Loss import CrossEntropyLoss\n",
    "from Optimization.Optimizers import Adam, SgdWithMomentum, Sgd\n",
    "\n",
    "from Model import Model\n",
    "\n",
    "import numpy as np\n",
    "from sklearn.model_selection import train_test_split\n",
    "import pandas as pd"
   ]
  },
  {
   "cell_type": "code",
   "execution_count": 2,
   "metadata": {},
   "outputs": [],
   "source": [
    "input_folder_path = \"Data/\"\n",
    "train_df = pd.read_csv(input_folder_path+\"train.csv\")[:1000]\n",
    "test_df = pd.read_csv(input_folder_path+\"test.csv\")\n",
    "\n",
    "train_labels = train_df['label'].values\n",
    "train_images = (train_df.iloc[:, 1:].values).astype('float32')\n",
    "test_images = (test_df.iloc[:, :].values).astype('float32')\n",
    "\n",
    "train_images, val_images, train_labels, val_labels = train_test_split(train_images, train_labels,\n",
    "                                                                      stratify=train_labels, random_state=123,\n",
    "                                                                      test_size=0.20)\n",
    "train_images = train_images.reshape(train_images.shape[0], 28, 28)\n",
    "val_images = val_images.reshape(val_images.shape[0], 28, 28)\n",
    "test_images = test_images.reshape(test_images.shape[0], 28, 28)\n",
    "\n",
    "train_images = train_images/255.0\n",
    "val_images = val_images/255.0\n",
    "test_images = test_images/255.0\n",
    "\n",
    "classes = 10\n",
    "\n",
    "train_images = np.expand_dims(train_images, axis=1)\n",
    "train_labels = train_labels.reshape(-1)\n",
    "train_labels = np.eye(classes)[train_labels]\n",
    "val_images = np.expand_dims(val_images, axis=1)\n",
    "val_labels = val_labels.reshape(-1)\n",
    "val_labels = np.eye(classes)[val_labels]"
   ]
  },
  {
   "cell_type": "code",
   "execution_count": 3,
   "metadata": {},
   "outputs": [],
   "source": [
    "model = [\n",
    "    Conv2d(in_channels=1, out_channels=32,\n",
    "           kernel_size=3, stride=1, padding='same'),\n",
    "    BatchNorm2d(32),\n",
    "    ReLU(),\n",
    "\n",
    "    Conv2d(in_channels=32, out_channels=64,\n",
    "           kernel_size=3, stride=1, padding='same'),\n",
    "    BatchNorm2d(64),\n",
    "    ReLU(),\n",
    "    MaxPool2d(kernel_size=2, stride=2),\n",
    "\n",
    "    Conv2d(in_channels=64, out_channels=64,\n",
    "           kernel_size=3, stride=1, padding='same'),\n",
    "    BatchNorm2d(64),\n",
    "    ReLU(),\n",
    "    MaxPool2d(kernel_size=2, stride=2),\n",
    "\n",
    "\n",
    "    Flatten(),\n",
    "   \n",
    "    Linear(in_features=64*7*7, out_features=128),\n",
    "    ReLU(),\n",
    "    Linear(128, 64),\n",
    "    ReLU(),\n",
    "    Linear(64, 10),\n",
    "    SoftMax(),\n",
    "]\n",
    "\n",
    "model = [\n",
    "    Conv2d(in_channels=1, out_channels=4,\n",
    "           kernel_size=3, stride=1, padding='same'),\n",
    "    BatchNorm2d(4),\n",
    "    ReLU(),\n",
    "    MaxPool2d(kernel_size=2, stride=2),\n",
    "    Conv2d(in_channels=4, out_channels=4,\n",
    "           kernel_size=3, stride=1, padding='same'),\n",
    "    BatchNorm2d(4),\n",
    "    ReLU(),\n",
    "    MaxPool2d(kernel_size=2, stride=2),\n",
    "    \n",
    "    Flatten(),\n",
    "    \n",
    "    Linear(in_features=4*7*7, out_features=32),\n",
    "    ReLU(),\n",
    "    Linear(32, 10),\n",
    "    SoftMax(),\n",
    "]"
   ]
  },
  {
   "cell_type": "code",
   "execution_count": 4,
   "metadata": {},
   "outputs": [],
   "source": [
    "batch_size = 32\n",
    "model = Model(model)\n",
    "model.compile(Adam(5e-3, 0.98, 0.999), CrossEntropyLoss(), batch_size, None)\n",
    "\n",
    "epochs = 25"
   ]
  },
  {
   "cell_type": "code",
   "execution_count": 5,
   "metadata": {},
   "outputs": [
    {
     "name": "stdout",
     "output_type": "stream",
     "text": [
      "EPOCH 1: \n"
     ]
    }
   ],
   "source": [
    "\n",
    "history = model.fit(train_images, train_labels, val_images, val_labels, epochs)"
   ]
  },
  {
   "cell_type": "code",
   "execution_count": null,
   "metadata": {},
   "outputs": [],
   "source": []
  }
 ],
 "metadata": {
  "kernelspec": {
   "display_name": ".venv",
   "language": "python",
   "name": "python3"
  },
  "language_info": {
   "codemirror_mode": {
    "name": "ipython",
    "version": 3
   },
   "file_extension": ".py",
   "mimetype": "text/x-python",
   "name": "python",
   "nbconvert_exporter": "python",
   "pygments_lexer": "ipython3",
   "version": "3.9.16"
  },
  "orig_nbformat": 4
 },
 "nbformat": 4,
 "nbformat_minor": 2
}
